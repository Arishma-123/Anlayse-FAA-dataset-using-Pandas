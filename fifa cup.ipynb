{
 "cells": [
  {
   "cell_type": "code",
   "execution_count": 1,
   "metadata": {},
   "outputs": [],
   "source": [
    "import pandas as pd\n",
    "import seaborn as sns"
   ]
  },
  {
   "cell_type": "code",
   "execution_count": 2,
   "metadata": {},
   "outputs": [],
   "source": [
    "d=pd.read_csv('/home/futures/Downloads/faa_ai_prelim.csv')"
   ]
  },
  {
   "cell_type": "markdown",
   "metadata": {},
   "source": [
    "# 1.View"
   ]
  },
  {
   "cell_type": "code",
   "execution_count": 3,
   "metadata": {},
   "outputs": [
    {
     "data": {
      "text/html": [
       "<div>\n",
       "<style scoped>\n",
       "    .dataframe tbody tr th:only-of-type {\n",
       "        vertical-align: middle;\n",
       "    }\n",
       "\n",
       "    .dataframe tbody tr th {\n",
       "        vertical-align: top;\n",
       "    }\n",
       "\n",
       "    .dataframe thead th {\n",
       "        text-align: right;\n",
       "    }\n",
       "</style>\n",
       "<table border=\"1\" class=\"dataframe\">\n",
       "  <thead>\n",
       "    <tr style=\"text-align: right;\">\n",
       "      <th></th>\n",
       "      <th>UPDATED</th>\n",
       "      <th>ENTRY_DATE</th>\n",
       "      <th>EVENT_LCL_DATE</th>\n",
       "      <th>EVENT_LCL_TIME</th>\n",
       "      <th>LOC_CITY_NAME</th>\n",
       "      <th>LOC_STATE_NAME</th>\n",
       "      <th>LOC_CNTRY_NAME</th>\n",
       "      <th>RMK_TEXT</th>\n",
       "      <th>EVENT_TYPE_DESC</th>\n",
       "      <th>FSDO_DESC</th>\n",
       "      <th>...</th>\n",
       "      <th>PAX_INJ_NONE</th>\n",
       "      <th>PAX_INJ_MINOR</th>\n",
       "      <th>PAX_INJ_SERIOUS</th>\n",
       "      <th>PAX_INJ_FATAL</th>\n",
       "      <th>PAX_INJ_UNK</th>\n",
       "      <th>GRND_INJ_NONE</th>\n",
       "      <th>GRND_INJ_MINOR</th>\n",
       "      <th>GRND_INJ_SERIOUS</th>\n",
       "      <th>GRND_INJ_FATAL</th>\n",
       "      <th>GRND_INJ_UNK</th>\n",
       "    </tr>\n",
       "  </thead>\n",
       "  <tbody>\n",
       "    <tr>\n",
       "      <th>0</th>\n",
       "      <td>No</td>\n",
       "      <td>19-FEB-16</td>\n",
       "      <td>19-FEB-16</td>\n",
       "      <td>00:45:00Z</td>\n",
       "      <td>MARSHVILLE</td>\n",
       "      <td>North Carolina</td>\n",
       "      <td>NaN</td>\n",
       "      <td>AIRCRAFT CRASHED INTO TREES, THE 1 PERSON ON B...</td>\n",
       "      <td>Accident</td>\n",
       "      <td>FAA Charlotte FSDO-68</td>\n",
       "      <td>...</td>\n",
       "      <td>NaN</td>\n",
       "      <td>NaN</td>\n",
       "      <td>NaN</td>\n",
       "      <td>NaN</td>\n",
       "      <td>NaN</td>\n",
       "      <td>NaN</td>\n",
       "      <td>NaN</td>\n",
       "      <td>NaN</td>\n",
       "      <td>NaN</td>\n",
       "      <td>NaN</td>\n",
       "    </tr>\n",
       "    <tr>\n",
       "      <th>1</th>\n",
       "      <td>No</td>\n",
       "      <td>19-FEB-16</td>\n",
       "      <td>18-FEB-16</td>\n",
       "      <td>23:55:00Z</td>\n",
       "      <td>TAVERNIER</td>\n",
       "      <td>Florida</td>\n",
       "      <td>NaN</td>\n",
       "      <td>AIRCRAFT ON LANDING WENT OFF THE END OF THE RU...</td>\n",
       "      <td>Incident</td>\n",
       "      <td>FAA Miami FSDO-19</td>\n",
       "      <td>...</td>\n",
       "      <td>NaN</td>\n",
       "      <td>NaN</td>\n",
       "      <td>NaN</td>\n",
       "      <td>NaN</td>\n",
       "      <td>NaN</td>\n",
       "      <td>NaN</td>\n",
       "      <td>NaN</td>\n",
       "      <td>NaN</td>\n",
       "      <td>NaN</td>\n",
       "      <td>NaN</td>\n",
       "    </tr>\n",
       "    <tr>\n",
       "      <th>2</th>\n",
       "      <td>No</td>\n",
       "      <td>19-FEB-16</td>\n",
       "      <td>18-FEB-16</td>\n",
       "      <td>22:14:00Z</td>\n",
       "      <td>TRENTON</td>\n",
       "      <td>New Jersey</td>\n",
       "      <td>NaN</td>\n",
       "      <td>AIRCRAFT ON FINAL SUSTAINED A BIRD STRIKE, LAN...</td>\n",
       "      <td>Incident</td>\n",
       "      <td>FAA Philadelphia FSDO-17</td>\n",
       "      <td>...</td>\n",
       "      <td>NaN</td>\n",
       "      <td>NaN</td>\n",
       "      <td>NaN</td>\n",
       "      <td>NaN</td>\n",
       "      <td>NaN</td>\n",
       "      <td>NaN</td>\n",
       "      <td>NaN</td>\n",
       "      <td>NaN</td>\n",
       "      <td>NaN</td>\n",
       "      <td>NaN</td>\n",
       "    </tr>\n",
       "    <tr>\n",
       "      <th>3</th>\n",
       "      <td>No</td>\n",
       "      <td>19-FEB-16</td>\n",
       "      <td>18-FEB-16</td>\n",
       "      <td>17:10:00Z</td>\n",
       "      <td>ASHEVILLE</td>\n",
       "      <td>North Carolina</td>\n",
       "      <td>NaN</td>\n",
       "      <td>AIRCRAFT ON LANDING, GEAR COLLAPSED, ASHEVILLE...</td>\n",
       "      <td>Incident</td>\n",
       "      <td>FAA Charlotte FSDO-68</td>\n",
       "      <td>...</td>\n",
       "      <td>NaN</td>\n",
       "      <td>NaN</td>\n",
       "      <td>NaN</td>\n",
       "      <td>NaN</td>\n",
       "      <td>NaN</td>\n",
       "      <td>NaN</td>\n",
       "      <td>NaN</td>\n",
       "      <td>NaN</td>\n",
       "      <td>NaN</td>\n",
       "      <td>NaN</td>\n",
       "    </tr>\n",
       "    <tr>\n",
       "      <th>4</th>\n",
       "      <td>No</td>\n",
       "      <td>19-FEB-16</td>\n",
       "      <td>18-FEB-16</td>\n",
       "      <td>00:26:00Z</td>\n",
       "      <td>TALKEETNA</td>\n",
       "      <td>Alaska</td>\n",
       "      <td>NaN</td>\n",
       "      <td>AIRCRAFT ON LANDING, NOSE GEAR COLLAPSED, TALK...</td>\n",
       "      <td>Incident</td>\n",
       "      <td>FAA Anchorage FSDO-03</td>\n",
       "      <td>...</td>\n",
       "      <td>NaN</td>\n",
       "      <td>1.0</td>\n",
       "      <td>NaN</td>\n",
       "      <td>NaN</td>\n",
       "      <td>NaN</td>\n",
       "      <td>NaN</td>\n",
       "      <td>NaN</td>\n",
       "      <td>NaN</td>\n",
       "      <td>NaN</td>\n",
       "      <td>NaN</td>\n",
       "    </tr>\n",
       "  </tbody>\n",
       "</table>\n",
       "<p>5 rows × 42 columns</p>\n",
       "</div>"
      ],
      "text/plain": [
       "  UPDATED ENTRY_DATE EVENT_LCL_DATE EVENT_LCL_TIME LOC_CITY_NAME  \\\n",
       "0      No  19-FEB-16      19-FEB-16      00:45:00Z    MARSHVILLE   \n",
       "1      No  19-FEB-16      18-FEB-16      23:55:00Z     TAVERNIER   \n",
       "2      No  19-FEB-16      18-FEB-16      22:14:00Z       TRENTON   \n",
       "3      No  19-FEB-16      18-FEB-16      17:10:00Z     ASHEVILLE   \n",
       "4      No  19-FEB-16      18-FEB-16      00:26:00Z     TALKEETNA   \n",
       "\n",
       "   LOC_STATE_NAME LOC_CNTRY_NAME  \\\n",
       "0  North Carolina            NaN   \n",
       "1         Florida            NaN   \n",
       "2      New Jersey            NaN   \n",
       "3  North Carolina            NaN   \n",
       "4          Alaska            NaN   \n",
       "\n",
       "                                            RMK_TEXT EVENT_TYPE_DESC  \\\n",
       "0  AIRCRAFT CRASHED INTO TREES, THE 1 PERSON ON B...        Accident   \n",
       "1  AIRCRAFT ON LANDING WENT OFF THE END OF THE RU...        Incident   \n",
       "2  AIRCRAFT ON FINAL SUSTAINED A BIRD STRIKE, LAN...        Incident   \n",
       "3  AIRCRAFT ON LANDING, GEAR COLLAPSED, ASHEVILLE...        Incident   \n",
       "4  AIRCRAFT ON LANDING, NOSE GEAR COLLAPSED, TALK...        Incident   \n",
       "\n",
       "                  FSDO_DESC  ... PAX_INJ_NONE PAX_INJ_MINOR PAX_INJ_SERIOUS  \\\n",
       "0     FAA Charlotte FSDO-68  ...          NaN           NaN             NaN   \n",
       "1         FAA Miami FSDO-19  ...          NaN           NaN             NaN   \n",
       "2  FAA Philadelphia FSDO-17  ...          NaN           NaN             NaN   \n",
       "3     FAA Charlotte FSDO-68  ...          NaN           NaN             NaN   \n",
       "4     FAA Anchorage FSDO-03  ...          NaN           1.0             NaN   \n",
       "\n",
       "  PAX_INJ_FATAL PAX_INJ_UNK  GRND_INJ_NONE GRND_INJ_MINOR GRND_INJ_SERIOUS  \\\n",
       "0           NaN         NaN            NaN            NaN              NaN   \n",
       "1           NaN         NaN            NaN            NaN              NaN   \n",
       "2           NaN         NaN            NaN            NaN              NaN   \n",
       "3           NaN         NaN            NaN            NaN              NaN   \n",
       "4           NaN         NaN            NaN            NaN              NaN   \n",
       "\n",
       "  GRND_INJ_FATAL  GRND_INJ_UNK  \n",
       "0            NaN           NaN  \n",
       "1            NaN           NaN  \n",
       "2            NaN           NaN  \n",
       "3            NaN           NaN  \n",
       "4            NaN           NaN  \n",
       "\n",
       "[5 rows x 42 columns]"
      ]
     },
     "execution_count": 3,
     "metadata": {},
     "output_type": "execute_result"
    }
   ],
   "source": [
    "d.head()"
   ]
  },
  {
   "cell_type": "code",
   "execution_count": 4,
   "metadata": {},
   "outputs": [
    {
     "data": {
      "text/plain": [
       "Index(['UPDATED', 'ENTRY_DATE', 'EVENT_LCL_DATE', 'EVENT_LCL_TIME',\n",
       "       'LOC_CITY_NAME', 'LOC_STATE_NAME', 'LOC_CNTRY_NAME', 'RMK_TEXT',\n",
       "       'EVENT_TYPE_DESC', 'FSDO_DESC', 'REGIST_NBR', 'FLT_NBR', 'ACFT_OPRTR',\n",
       "       'ACFT_MAKE_NAME', 'ACFT_MODEL_NAME', 'ACFT_MISSING_FLAG',\n",
       "       'ACFT_DMG_DESC', 'FLT_ACTIVITY', 'FLT_PHASE', 'FAR_PART', 'MAX_INJ_LVL',\n",
       "       'FATAL_FLAG', 'FLT_CRW_INJ_NONE', 'FLT_CRW_INJ_MINOR',\n",
       "       'FLT_CRW_INJ_SERIOUS', 'FLT_CRW_INJ_FATAL', 'FLT_CRW_INJ_UNK',\n",
       "       'CBN_CRW_INJ_NONE', 'CBN_CRW_INJ_MINOR', 'CBN_CRW_INJ_SERIOUS',\n",
       "       'CBN_CRW_INJ_FATAL', 'CBN_CRW_INJ_UNK', 'PAX_INJ_NONE', 'PAX_INJ_MINOR',\n",
       "       'PAX_INJ_SERIOUS', 'PAX_INJ_FATAL', 'PAX_INJ_UNK', 'GRND_INJ_NONE',\n",
       "       'GRND_INJ_MINOR', 'GRND_INJ_SERIOUS', 'GRND_INJ_FATAL', 'GRND_INJ_UNK'],\n",
       "      dtype='object')"
      ]
     },
     "execution_count": 4,
     "metadata": {},
     "output_type": "execute_result"
    }
   ],
   "source": [
    "d.columns"
   ]
  },
  {
   "cell_type": "code",
   "execution_count": 5,
   "metadata": {},
   "outputs": [
    {
     "data": {
      "text/plain": [
       "(83, 42)"
      ]
     },
     "execution_count": 5,
     "metadata": {},
     "output_type": "execute_result"
    }
   ],
   "source": [
    "d.shape"
   ]
  },
  {
   "cell_type": "markdown",
   "metadata": {},
   "source": [
    "# a. Aircraft make name"
   ]
  },
  {
   "cell_type": "code",
   "execution_count": 6,
   "metadata": {},
   "outputs": [
    {
     "data": {
      "text/plain": [
       "0              BEECH\n",
       "1               VANS\n",
       "2             CESSNA\n",
       "3            LANCAIR\n",
       "4             CESSNA\n",
       "           ...      \n",
       "78           AERONCA\n",
       "79    NORTH AMERICAN\n",
       "80          CHAMPION\n",
       "81             BEECH\n",
       "82            CESSNA\n",
       "Name: ACFT_MAKE_NAME, Length: 83, dtype: object"
      ]
     },
     "execution_count": 6,
     "metadata": {},
     "output_type": "execute_result"
    }
   ],
   "source": [
    "d['ACFT_MAKE_NAME']"
   ]
  },
  {
   "cell_type": "markdown",
   "metadata": {},
   "source": [
    "# b. State name"
   ]
  },
  {
   "cell_type": "code",
   "execution_count": 7,
   "metadata": {},
   "outputs": [
    {
     "data": {
      "text/plain": [
       "0     North Carolina\n",
       "1            Florida\n",
       "2         New Jersey\n",
       "3     North Carolina\n",
       "4             Alaska\n",
       "           ...      \n",
       "78             Texas\n",
       "79           Arizona\n",
       "80        California\n",
       "81        California\n",
       "82           Alabama\n",
       "Name: LOC_STATE_NAME, Length: 83, dtype: object"
      ]
     },
     "execution_count": 7,
     "metadata": {},
     "output_type": "execute_result"
    }
   ],
   "source": [
    "d['LOC_STATE_NAME']"
   ]
  },
  {
   "cell_type": "markdown",
   "metadata": {},
   "source": [
    "# c. Aircraft model name"
   ]
  },
  {
   "cell_type": "code",
   "execution_count": 8,
   "metadata": {},
   "outputs": [
    {
     "data": {
      "text/plain": [
       "0        36\n",
       "1       RV7\n",
       "2       172\n",
       "3       235\n",
       "4       172\n",
       "      ...  \n",
       "78     O58B\n",
       "79      F51\n",
       "80    8KCAB\n",
       "81       35\n",
       "82      182\n",
       "Name: ACFT_MODEL_NAME, Length: 83, dtype: object"
      ]
     },
     "execution_count": 8,
     "metadata": {},
     "output_type": "execute_result"
    }
   ],
   "source": [
    "d['ACFT_MODEL_NAME']"
   ]
  },
  {
   "cell_type": "markdown",
   "metadata": {},
   "source": [
    "# d. Text information"
   ]
  },
  {
   "cell_type": "code",
   "execution_count": 9,
   "metadata": {},
   "outputs": [
    {
     "data": {
      "text/plain": [
       "0     AIRCRAFT CRASHED INTO TREES, THE 1 PERSON ON B...\n",
       "1     AIRCRAFT ON LANDING WENT OFF THE END OF THE RU...\n",
       "2     AIRCRAFT ON FINAL SUSTAINED A BIRD STRIKE, LAN...\n",
       "3     AIRCRAFT ON LANDING, GEAR COLLAPSED, ASHEVILLE...\n",
       "4     AIRCRAFT ON LANDING, NOSE GEAR COLLAPSED, TALK...\n",
       "                            ...                        \n",
       "78    AIRCRAFT ON LANDING, GROUND LOOPED, BULVERDE A...\n",
       "79    AIRCRAFT CRASHED UNDER UNKNOWN CIRCUMSTANCES, ...\n",
       "80    N9872R, BEECH M35 AIRCRAFT, AND N5057G, BELLAN...\n",
       "81    N9872R, BEECH M35 AIRCRAFT, AND N5057G, BELLAN...\n",
       "82    N784CP AIRCRAFT CRASHED INTO A WOODED AREA NEA...\n",
       "Name: RMK_TEXT, Length: 83, dtype: object"
      ]
     },
     "execution_count": 9,
     "metadata": {},
     "output_type": "execute_result"
    }
   ],
   "source": [
    "d['RMK_TEXT']"
   ]
  },
  {
   "cell_type": "markdown",
   "metadata": {},
   "source": [
    "# e. Flight phase"
   ]
  },
  {
   "cell_type": "code",
   "execution_count": 10,
   "metadata": {},
   "outputs": [
    {
     "data": {
      "text/plain": [
       "0      UNKNOWN (UNK)\n",
       "1      LANDING (LDG)\n",
       "2     APPROACH (APR)\n",
       "3      LANDING (LDG)\n",
       "4      LANDING (LDG)\n",
       "           ...      \n",
       "78     LANDING (LDG)\n",
       "79     UNKNOWN (UNK)\n",
       "80     UNKNOWN (UNK)\n",
       "81     UNKNOWN (UNK)\n",
       "82     UNKNOWN (UNK)\n",
       "Name: FLT_PHASE, Length: 83, dtype: object"
      ]
     },
     "execution_count": 10,
     "metadata": {},
     "output_type": "execute_result"
    }
   ],
   "source": [
    "d['FLT_PHASE']"
   ]
  },
  {
   "cell_type": "markdown",
   "metadata": {},
   "source": [
    "# f. Event description type"
   ]
  },
  {
   "cell_type": "code",
   "execution_count": 11,
   "metadata": {},
   "outputs": [
    {
     "data": {
      "text/plain": [
       "0     Accident\n",
       "1     Incident\n",
       "2     Incident\n",
       "3     Incident\n",
       "4     Incident\n",
       "        ...   \n",
       "78    Accident\n",
       "79    Accident\n",
       "80    Accident\n",
       "81    Accident\n",
       "82    Accident\n",
       "Name: EVENT_TYPE_DESC, Length: 83, dtype: object"
      ]
     },
     "execution_count": 11,
     "metadata": {},
     "output_type": "execute_result"
    }
   ],
   "source": [
    "d['EVENT_TYPE_DESC']"
   ]
  },
  {
   "cell_type": "markdown",
   "metadata": {},
   "source": [
    "# g. Fatal flag"
   ]
  },
  {
   "cell_type": "code",
   "execution_count": 12,
   "metadata": {},
   "outputs": [
    {
     "data": {
      "text/plain": [
       "0     Yes\n",
       "1     NaN\n",
       "2     NaN\n",
       "3     NaN\n",
       "4     NaN\n",
       "     ... \n",
       "78    NaN\n",
       "79    Yes\n",
       "80    Yes\n",
       "81    Yes\n",
       "82    Yes\n",
       "Name: FATAL_FLAG, Length: 83, dtype: object"
      ]
     },
     "execution_count": 12,
     "metadata": {},
     "output_type": "execute_result"
    }
   ],
   "source": [
    "d['FATAL_FLAG']"
   ]
  },
  {
   "cell_type": "markdown",
   "metadata": {},
   "source": [
    "# 2. Clean the dataset and replace the fatal flag NaN with “No”"
   ]
  },
  {
   "cell_type": "code",
   "execution_count": 13,
   "metadata": {},
   "outputs": [
    {
     "data": {
      "text/plain": [
       "UPDATED                 0\n",
       "ENTRY_DATE              0\n",
       "EVENT_LCL_DATE          0\n",
       "EVENT_LCL_TIME          0\n",
       "LOC_CITY_NAME           0\n",
       "LOC_STATE_NAME          0\n",
       "LOC_CNTRY_NAME         81\n",
       "RMK_TEXT                0\n",
       "EVENT_TYPE_DESC         0\n",
       "FSDO_DESC               2\n",
       "REGIST_NBR              0\n",
       "FLT_NBR                77\n",
       "ACFT_OPRTR             76\n",
       "ACFT_MAKE_NAME          5\n",
       "ACFT_MODEL_NAME         4\n",
       "ACFT_MISSING_FLAG      83\n",
       "ACFT_DMG_DESC           1\n",
       "FLT_ACTIVITY           70\n",
       "FLT_PHASE               1\n",
       "FAR_PART               82\n",
       "MAX_INJ_LVL             3\n",
       "FATAL_FLAG             75\n",
       "FLT_CRW_INJ_NONE       19\n",
       "FLT_CRW_INJ_MINOR      77\n",
       "FLT_CRW_INJ_SERIOUS    82\n",
       "FLT_CRW_INJ_FATAL      75\n",
       "FLT_CRW_INJ_UNK        83\n",
       "CBN_CRW_INJ_NONE       83\n",
       "CBN_CRW_INJ_MINOR      83\n",
       "CBN_CRW_INJ_SERIOUS    83\n",
       "CBN_CRW_INJ_FATAL      83\n",
       "CBN_CRW_INJ_UNK        82\n",
       "PAX_INJ_NONE           66\n",
       "PAX_INJ_MINOR          82\n",
       "PAX_INJ_SERIOUS        80\n",
       "PAX_INJ_FATAL          82\n",
       "PAX_INJ_UNK            83\n",
       "GRND_INJ_NONE          83\n",
       "GRND_INJ_MINOR         83\n",
       "GRND_INJ_SERIOUS       83\n",
       "GRND_INJ_FATAL         83\n",
       "GRND_INJ_UNK           82\n",
       "dtype: int64"
      ]
     },
     "execution_count": 13,
     "metadata": {},
     "output_type": "execute_result"
    }
   ],
   "source": [
    "d.isnull().sum()"
   ]
  },
  {
   "cell_type": "code",
   "execution_count": 14,
   "metadata": {},
   "outputs": [
    {
     "data": {
      "text/plain": [
       "0     Yes\n",
       "1      No\n",
       "2      No\n",
       "3      No\n",
       "4      No\n",
       "     ... \n",
       "78     No\n",
       "79    Yes\n",
       "80    Yes\n",
       "81    Yes\n",
       "82    Yes\n",
       "Name: FATAL_FLAG, Length: 83, dtype: object"
      ]
     },
     "execution_count": 14,
     "metadata": {},
     "output_type": "execute_result"
    }
   ],
   "source": [
    "d.FATAL_FLAG .fillna('No',inplace=True)\n",
    "d['FATAL_FLAG']"
   ]
  },
  {
   "cell_type": "code",
   "execution_count": 15,
   "metadata": {},
   "outputs": [
    {
     "data": {
      "text/plain": [
       "UPDATED                 0\n",
       "ENTRY_DATE              0\n",
       "EVENT_LCL_DATE          0\n",
       "EVENT_LCL_TIME          0\n",
       "LOC_CITY_NAME           0\n",
       "LOC_STATE_NAME          0\n",
       "LOC_CNTRY_NAME         81\n",
       "RMK_TEXT                0\n",
       "EVENT_TYPE_DESC         0\n",
       "FSDO_DESC               2\n",
       "REGIST_NBR              0\n",
       "FLT_NBR                77\n",
       "ACFT_OPRTR             76\n",
       "ACFT_MAKE_NAME          5\n",
       "ACFT_MODEL_NAME         4\n",
       "ACFT_MISSING_FLAG      83\n",
       "ACFT_DMG_DESC           1\n",
       "FLT_ACTIVITY           70\n",
       "FLT_PHASE               1\n",
       "FAR_PART               82\n",
       "MAX_INJ_LVL             3\n",
       "FATAL_FLAG              0\n",
       "FLT_CRW_INJ_NONE       19\n",
       "FLT_CRW_INJ_MINOR      77\n",
       "FLT_CRW_INJ_SERIOUS    82\n",
       "FLT_CRW_INJ_FATAL      75\n",
       "FLT_CRW_INJ_UNK        83\n",
       "CBN_CRW_INJ_NONE       83\n",
       "CBN_CRW_INJ_MINOR      83\n",
       "CBN_CRW_INJ_SERIOUS    83\n",
       "CBN_CRW_INJ_FATAL      83\n",
       "CBN_CRW_INJ_UNK        82\n",
       "PAX_INJ_NONE           66\n",
       "PAX_INJ_MINOR          82\n",
       "PAX_INJ_SERIOUS        80\n",
       "PAX_INJ_FATAL          82\n",
       "PAX_INJ_UNK            83\n",
       "GRND_INJ_NONE          83\n",
       "GRND_INJ_MINOR         83\n",
       "GRND_INJ_SERIOUS       83\n",
       "GRND_INJ_FATAL         83\n",
       "GRND_INJ_UNK           82\n",
       "dtype: int64"
      ]
     },
     "execution_count": 15,
     "metadata": {},
     "output_type": "execute_result"
    }
   ],
   "source": [
    "d.isnull().sum()"
   ]
  },
  {
   "cell_type": "markdown",
   "metadata": {},
   "source": [
    "# 3. Find the aircraft types and their occurrences in the dataset"
   ]
  },
  {
   "cell_type": "code",
   "execution_count": 16,
   "metadata": {},
   "outputs": [
    {
     "data": {
      "text/plain": [
       "0              BEECH\n",
       "1               VANS\n",
       "2             CESSNA\n",
       "3            LANCAIR\n",
       "4             CESSNA\n",
       "           ...      \n",
       "78           AERONCA\n",
       "79    NORTH AMERICAN\n",
       "80          CHAMPION\n",
       "81             BEECH\n",
       "82            CESSNA\n",
       "Name: ACFT_MAKE_NAME, Length: 83, dtype: object"
      ]
     },
     "execution_count": 16,
     "metadata": {},
     "output_type": "execute_result"
    }
   ],
   "source": [
    "d['ACFT_MAKE_NAME']"
   ]
  },
  {
   "cell_type": "code",
   "execution_count": 17,
   "metadata": {},
   "outputs": [
    {
     "data": {
      "text/plain": [
       "<matplotlib.axes._subplots.AxesSubplot at 0x7fea37a78e90>"
      ]
     },
     "execution_count": 17,
     "metadata": {},
     "output_type": "execute_result"
    },
    {
     "data": {
      "image/png": "[encoded data removed]",
      "text/plain": [
       "<Figure size 432x288 with 1 Axes>"
      ]
     },
     "metadata": {
      "needs_background": "light"
     },
     "output_type": "display_data"
    }
   ],
   "source": [
    "sns.countplot(y='ACFT_MAKE_NAME',data=d)"
   ]
  },
  {
   "cell_type": "code",
   "execution_count": 18,
   "metadata": {},
   "outputs": [
    {
     "data": {
      "text/plain": [
       "5"
      ]
     },
     "execution_count": 18,
     "metadata": {},
     "output_type": "execute_result"
    }
   ],
   "source": [
    "d['ACFT_MAKE_NAME'].isnull().sum()"
   ]
  },
  {
   "cell_type": "code",
   "execution_count": 19,
   "metadata": {},
   "outputs": [
    {
     "data": {
      "text/plain": [
       "0              BEECH\n",
       "1               VANS\n",
       "2             CESSNA\n",
       "3            LANCAIR\n",
       "4             CESSNA\n",
       "           ...      \n",
       "78           AERONCA\n",
       "79    NORTH AMERICAN\n",
       "80          CHAMPION\n",
       "81             BEECH\n",
       "82            CESSNA\n",
       "Name: ACFT_MAKE_NAME, Length: 83, dtype: object"
      ]
     },
     "execution_count": 19,
     "metadata": {},
     "output_type": "execute_result"
    }
   ],
   "source": [
    "d['ACFT_MAKE_NAME']"
   ]
  },
  {
   "cell_type": "markdown",
   "metadata": {},
   "source": [
    "# 4. Remove all the observations where aircraft names are not available"
   ]
  },
  {
   "cell_type": "code",
   "execution_count": 25,
   "metadata": {},
   "outputs": [],
   "source": [
    "d.dropna(subset=['ACFT_MAKE_NAME'],axis=0,inplace=True)"
   ]
  },
  {
   "cell_type": "code",
   "execution_count": 22,
   "metadata": {},
   "outputs": [
    {
     "data": {
      "text/plain": [
       "9     NaN\n",
       "11    NaN\n",
       "22    NaN\n",
       "57    NaN\n",
       "58    NaN\n",
       "Name: ACFT_MAKE_NAME, dtype: object"
      ]
     },
     "execution_count": 22,
     "metadata": {},
     "output_type": "execute_result"
    }
   ],
   "source": [
    "d['ACFT_MAKE_NAME'].loc[d['ACFT_MAKE_NAME'].isnull()]"
   ]
  },
  {
   "cell_type": "markdown",
   "metadata": {},
   "source": [
    "# 5.  Display the observations where fatal flag is “Yes”"
   ]
  },
  {
   "cell_type": "code",
   "execution_count": 26,
   "metadata": {},
   "outputs": [
    {
     "data": {
      "text/html": [
       "<div>\n",
       "<style scoped>\n",
       "    .dataframe tbody tr th:only-of-type {\n",
       "        vertical-align: middle;\n",
       "    }\n",
       "\n",
       "    .dataframe tbody tr th {\n",
       "        vertical-align: top;\n",
       "    }\n",
       "\n",
       "    .dataframe thead th {\n",
       "        text-align: right;\n",
       "    }\n",
       "</style>\n",
       "<table border=\"1\" class=\"dataframe\">\n",
       "  <thead>\n",
       "    <tr style=\"text-align: right;\">\n",
       "      <th></th>\n",
       "      <th>UPDATED</th>\n",
       "      <th>ENTRY_DATE</th>\n",
       "      <th>EVENT_LCL_DATE</th>\n",
       "      <th>EVENT_LCL_TIME</th>\n",
       "      <th>LOC_CITY_NAME</th>\n",
       "      <th>LOC_STATE_NAME</th>\n",
       "      <th>LOC_CNTRY_NAME</th>\n",
       "      <th>RMK_TEXT</th>\n",
       "      <th>EVENT_TYPE_DESC</th>\n",
       "      <th>FSDO_DESC</th>\n",
       "      <th>...</th>\n",
       "      <th>PAX_INJ_NONE</th>\n",
       "      <th>PAX_INJ_MINOR</th>\n",
       "      <th>PAX_INJ_SERIOUS</th>\n",
       "      <th>PAX_INJ_FATAL</th>\n",
       "      <th>PAX_INJ_UNK</th>\n",
       "      <th>GRND_INJ_NONE</th>\n",
       "      <th>GRND_INJ_MINOR</th>\n",
       "      <th>GRND_INJ_SERIOUS</th>\n",
       "      <th>GRND_INJ_FATAL</th>\n",
       "      <th>GRND_INJ_UNK</th>\n",
       "    </tr>\n",
       "  </thead>\n",
       "  <tbody>\n",
       "    <tr>\n",
       "      <th>0</th>\n",
       "      <td>No</td>\n",
       "      <td>19-FEB-16</td>\n",
       "      <td>19-FEB-16</td>\n",
       "      <td>00:45:00Z</td>\n",
       "      <td>MARSHVILLE</td>\n",
       "      <td>North Carolina</td>\n",
       "      <td>NaN</td>\n",
       "      <td>AIRCRAFT CRASHED INTO TREES, THE 1 PERSON ON B...</td>\n",
       "      <td>Accident</td>\n",
       "      <td>FAA Charlotte FSDO-68</td>\n",
       "      <td>...</td>\n",
       "      <td>NaN</td>\n",
       "      <td>NaN</td>\n",
       "      <td>NaN</td>\n",
       "      <td>NaN</td>\n",
       "      <td>NaN</td>\n",
       "      <td>NaN</td>\n",
       "      <td>NaN</td>\n",
       "      <td>NaN</td>\n",
       "      <td>NaN</td>\n",
       "      <td>NaN</td>\n",
       "    </tr>\n",
       "    <tr>\n",
       "      <th>53</th>\n",
       "      <td>No</td>\n",
       "      <td>12-FEB-16</td>\n",
       "      <td>11-FEB-16</td>\n",
       "      <td>11:32:00Z</td>\n",
       "      <td>DESTIN</td>\n",
       "      <td>Florida</td>\n",
       "      <td>United States</td>\n",
       "      <td>AIRCRAFT CRASHED UNDER UNKNOWN CIRCUMSTANCES. ...</td>\n",
       "      <td>Accident</td>\n",
       "      <td>NaN</td>\n",
       "      <td>...</td>\n",
       "      <td>NaN</td>\n",
       "      <td>NaN</td>\n",
       "      <td>NaN</td>\n",
       "      <td>1.0</td>\n",
       "      <td>NaN</td>\n",
       "      <td>NaN</td>\n",
       "      <td>NaN</td>\n",
       "      <td>NaN</td>\n",
       "      <td>NaN</td>\n",
       "      <td>NaN</td>\n",
       "    </tr>\n",
       "    <tr>\n",
       "      <th>55</th>\n",
       "      <td>No</td>\n",
       "      <td>11-FEB-16</td>\n",
       "      <td>11-FEB-16</td>\n",
       "      <td>00:17:00Z</td>\n",
       "      <td>TULARE</td>\n",
       "      <td>California</td>\n",
       "      <td>NaN</td>\n",
       "      <td>AIRCRAFT CRASHED UNDER UNKNOWN CIRCUMSTANCES A...</td>\n",
       "      <td>Accident</td>\n",
       "      <td>FAA Fresno FSDO-17</td>\n",
       "      <td>...</td>\n",
       "      <td>NaN</td>\n",
       "      <td>NaN</td>\n",
       "      <td>NaN</td>\n",
       "      <td>NaN</td>\n",
       "      <td>NaN</td>\n",
       "      <td>NaN</td>\n",
       "      <td>NaN</td>\n",
       "      <td>NaN</td>\n",
       "      <td>NaN</td>\n",
       "      <td>NaN</td>\n",
       "    </tr>\n",
       "    <tr>\n",
       "      <th>79</th>\n",
       "      <td>No</td>\n",
       "      <td>08-FEB-16</td>\n",
       "      <td>05-FEB-16</td>\n",
       "      <td>11:17:00Z</td>\n",
       "      <td>MARICOPA</td>\n",
       "      <td>Arizona</td>\n",
       "      <td>NaN</td>\n",
       "      <td>AIRCRAFT CRASHED UNDER UNKNOWN CIRCUMSTANCES, ...</td>\n",
       "      <td>Accident</td>\n",
       "      <td>FAA Scottsdale FSDO-07</td>\n",
       "      <td>...</td>\n",
       "      <td>NaN</td>\n",
       "      <td>NaN</td>\n",
       "      <td>NaN</td>\n",
       "      <td>NaN</td>\n",
       "      <td>NaN</td>\n",
       "      <td>NaN</td>\n",
       "      <td>NaN</td>\n",
       "      <td>NaN</td>\n",
       "      <td>NaN</td>\n",
       "      <td>NaN</td>\n",
       "    </tr>\n",
       "    <tr>\n",
       "      <th>80</th>\n",
       "      <td>No</td>\n",
       "      <td>08-FEB-16</td>\n",
       "      <td>05-FEB-16</td>\n",
       "      <td>23:02:00Z</td>\n",
       "      <td>SAN PEDRO</td>\n",
       "      <td>California</td>\n",
       "      <td>NaN</td>\n",
       "      <td>N9872R, BEECH M35 AIRCRAFT, AND N5057G, BELLAN...</td>\n",
       "      <td>Accident</td>\n",
       "      <td>FAA Long Beach FSDO-05</td>\n",
       "      <td>...</td>\n",
       "      <td>NaN</td>\n",
       "      <td>NaN</td>\n",
       "      <td>NaN</td>\n",
       "      <td>NaN</td>\n",
       "      <td>NaN</td>\n",
       "      <td>NaN</td>\n",
       "      <td>NaN</td>\n",
       "      <td>NaN</td>\n",
       "      <td>NaN</td>\n",
       "      <td>NaN</td>\n",
       "    </tr>\n",
       "    <tr>\n",
       "      <th>81</th>\n",
       "      <td>No</td>\n",
       "      <td>08-FEB-16</td>\n",
       "      <td>05-FEB-16</td>\n",
       "      <td>23:02:00Z</td>\n",
       "      <td>SAN PEDRO</td>\n",
       "      <td>California</td>\n",
       "      <td>NaN</td>\n",
       "      <td>N9872R, BEECH M35 AIRCRAFT, AND N5057G, BELLAN...</td>\n",
       "      <td>Accident</td>\n",
       "      <td>FAA Long Beach FSDO-05</td>\n",
       "      <td>...</td>\n",
       "      <td>NaN</td>\n",
       "      <td>NaN</td>\n",
       "      <td>NaN</td>\n",
       "      <td>NaN</td>\n",
       "      <td>NaN</td>\n",
       "      <td>NaN</td>\n",
       "      <td>NaN</td>\n",
       "      <td>NaN</td>\n",
       "      <td>NaN</td>\n",
       "      <td>NaN</td>\n",
       "    </tr>\n",
       "    <tr>\n",
       "      <th>82</th>\n",
       "      <td>Yes</td>\n",
       "      <td>02-FEB-16</td>\n",
       "      <td>02-FEB-16</td>\n",
       "      <td>01:52:00Z</td>\n",
       "      <td>MOBILE</td>\n",
       "      <td>Alabama</td>\n",
       "      <td>NaN</td>\n",
       "      <td>N784CP AIRCRAFT CRASHED INTO A WOODED AREA NEA...</td>\n",
       "      <td>Accident</td>\n",
       "      <td>FAA Birmingham FSDO-09</td>\n",
       "      <td>...</td>\n",
       "      <td>NaN</td>\n",
       "      <td>NaN</td>\n",
       "      <td>NaN</td>\n",
       "      <td>NaN</td>\n",
       "      <td>NaN</td>\n",
       "      <td>NaN</td>\n",
       "      <td>NaN</td>\n",
       "      <td>NaN</td>\n",
       "      <td>NaN</td>\n",
       "      <td>NaN</td>\n",
       "    </tr>\n",
       "  </tbody>\n",
       "</table>\n",
       "<p>7 rows × 42 columns</p>\n",
       "</div>"
      ],
      "text/plain": [
       "   UPDATED ENTRY_DATE EVENT_LCL_DATE EVENT_LCL_TIME LOC_CITY_NAME  \\\n",
       "0       No  19-FEB-16      19-FEB-16      00:45:00Z    MARSHVILLE   \n",
       "53      No  12-FEB-16      11-FEB-16      11:32:00Z        DESTIN   \n",
       "55      No  11-FEB-16      11-FEB-16      00:17:00Z        TULARE   \n",
       "79      No  08-FEB-16      05-FEB-16      11:17:00Z      MARICOPA   \n",
       "80      No  08-FEB-16      05-FEB-16      23:02:00Z     SAN PEDRO   \n",
       "81      No  08-FEB-16      05-FEB-16      23:02:00Z     SAN PEDRO   \n",
       "82     Yes  02-FEB-16      02-FEB-16      01:52:00Z        MOBILE   \n",
       "\n",
       "    LOC_STATE_NAME LOC_CNTRY_NAME  \\\n",
       "0   North Carolina            NaN   \n",
       "53         Florida  United States   \n",
       "55      California            NaN   \n",
       "79         Arizona            NaN   \n",
       "80      California            NaN   \n",
       "81      California            NaN   \n",
       "82         Alabama            NaN   \n",
       "\n",
       "                                             RMK_TEXT EVENT_TYPE_DESC  \\\n",
       "0   AIRCRAFT CRASHED INTO TREES, THE 1 PERSON ON B...        Accident   \n",
       "53  AIRCRAFT CRASHED UNDER UNKNOWN CIRCUMSTANCES. ...        Accident   \n",
       "55  AIRCRAFT CRASHED UNDER UNKNOWN CIRCUMSTANCES A...        Accident   \n",
       "79  AIRCRAFT CRASHED UNDER UNKNOWN CIRCUMSTANCES, ...        Accident   \n",
       "80  N9872R, BEECH M35 AIRCRAFT, AND N5057G, BELLAN...        Accident   \n",
       "81  N9872R, BEECH M35 AIRCRAFT, AND N5057G, BELLAN...        Accident   \n",
       "82  N784CP AIRCRAFT CRASHED INTO A WOODED AREA NEA...        Accident   \n",
       "\n",
       "                 FSDO_DESC  ... PAX_INJ_NONE PAX_INJ_MINOR PAX_INJ_SERIOUS  \\\n",
       "0    FAA Charlotte FSDO-68  ...          NaN           NaN             NaN   \n",
       "53                     NaN  ...          NaN           NaN             NaN   \n",
       "55      FAA Fresno FSDO-17  ...          NaN           NaN             NaN   \n",
       "79  FAA Scottsdale FSDO-07  ...          NaN           NaN             NaN   \n",
       "80  FAA Long Beach FSDO-05  ...          NaN           NaN             NaN   \n",
       "81  FAA Long Beach FSDO-05  ...          NaN           NaN             NaN   \n",
       "82  FAA Birmingham FSDO-09  ...          NaN           NaN             NaN   \n",
       "\n",
       "   PAX_INJ_FATAL PAX_INJ_UNK  GRND_INJ_NONE GRND_INJ_MINOR GRND_INJ_SERIOUS  \\\n",
       "0            NaN         NaN            NaN            NaN              NaN   \n",
       "53           1.0         NaN            NaN            NaN              NaN   \n",
       "55           NaN         NaN            NaN            NaN              NaN   \n",
       "79           NaN         NaN            NaN            NaN              NaN   \n",
       "80           NaN         NaN            NaN            NaN              NaN   \n",
       "81           NaN         NaN            NaN            NaN              NaN   \n",
       "82           NaN         NaN            NaN            NaN              NaN   \n",
       "\n",
       "   GRND_INJ_FATAL  GRND_INJ_UNK  \n",
       "0             NaN           NaN  \n",
       "53            NaN           NaN  \n",
       "55            NaN           NaN  \n",
       "79            NaN           NaN  \n",
       "80            NaN           NaN  \n",
       "81            NaN           NaN  \n",
       "82            NaN           NaN  \n",
       "\n",
       "[7 rows x 42 columns]"
      ]
     },
     "execution_count": 26,
     "metadata": {},
     "output_type": "execute_result"
    }
   ],
   "source": [
    "d.loc[d['FATAL_FLAG']=='Yes']"
   ]
  },
  {
   "cell_type": "code",
   "execution_count": null,
   "metadata": {},
   "outputs": [],
   "source": []
  }
 ],
 "metadata": {
  "kernelspec": {
   "display_name": "Python 3",
   "language": "python",
   "name": "python3"
  },
  "language_info": {
   "codemirror_mode": {
    "name": "ipython",
    "version": 3
   },
   "file_extension": ".py",
   "mimetype": "text/x-python",
   "name": "python",
   "nbconvert_exporter": "python",
   "pygments_lexer": "ipython3",
   "version": "3.7.6"
  }
 },
 "nbformat": 4,
 "nbformat_minor": 4
}
